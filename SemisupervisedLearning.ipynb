{
 "cells": [
  {
   "cell_type": "code",
   "execution_count": 1,
   "metadata": {},
   "outputs": [
    {
     "name": "stderr",
     "output_type": "stream",
     "text": [
      "Using TensorFlow backend.\n"
     ]
    }
   ],
   "source": [
    "import cv2\n",
    "import glob\n",
    "import pandas as pd\n",
    "import os\n",
    "import numpy as np\n",
    "import keras"
   ]
  },
  {
   "cell_type": "code",
   "execution_count": 2,
   "metadata": {},
   "outputs": [
    {
     "name": "stdout",
     "output_type": "stream",
     "text": [
      "2.0.0\n"
     ]
    }
   ],
   "source": [
    "import tensorflow as tf\n",
    "print(tf.__version__)"
   ]
  },
  {
   "cell_type": "markdown",
   "metadata": {},
   "source": [
    "## Data"
   ]
  },
  {
   "cell_type": "code",
   "execution_count": 3,
   "metadata": {},
   "outputs": [],
   "source": [
    "pd_labels = pd.read_csv('C:/Users/spradha5/NeuralC2/train_files.csv')"
   ]
  },
  {
   "cell_type": "code",
   "execution_count": 4,
   "metadata": {},
   "outputs": [],
   "source": [
    "pd_labels = pd_labels.sort_values(by=['file_name'])"
   ]
  },
  {
   "cell_type": "code",
   "execution_count": 5,
   "metadata": {},
   "outputs": [],
   "source": [
    "#One hot Encode labels\n",
    "training_Y = keras.utils.to_categorical(pd_labels['annotation'], 5)"
   ]
  },
  {
   "cell_type": "code",
   "execution_count": 6,
   "metadata": {},
   "outputs": [
    {
     "data": {
      "text/plain": [
       "array([[1., 0., 0., 0., 0.],\n",
       "       [1., 0., 0., 0., 0.],\n",
       "       [1., 0., 0., 0., 0.],\n",
       "       ...,\n",
       "       [0., 0., 1., 0., 0.],\n",
       "       [1., 0., 0., 0., 0.],\n",
       "       [0., 0., 1., 0., 0.]], dtype=float32)"
      ]
     },
     "execution_count": 6,
     "metadata": {},
     "output_type": "execute_result"
    }
   ],
   "source": [
    "training_Y"
   ]
  },
  {
   "cell_type": "code",
   "execution_count": 7,
   "metadata": {},
   "outputs": [
    {
     "data": {
      "text/plain": [
       "(896, 5)"
      ]
     },
     "execution_count": 7,
     "metadata": {},
     "output_type": "execute_result"
    }
   ],
   "source": [
    "training_Y.shape"
   ]
  },
  {
   "cell_type": "markdown",
   "metadata": {},
   "source": [
    "## Model"
   ]
  },
  {
   "cell_type": "code",
   "execution_count": 8,
   "metadata": {},
   "outputs": [],
   "source": [
    "import tensorflow as tf\n",
    "import keras\n",
    "from keras.models import Sequential\n",
    "from keras.layers import Dense, Conv2D, Flatten, Dropout, MaxPooling2D\n",
    "from keras import optimizers\n",
    "from tensorflow.keras.layers import Conv2D, MaxPooling2D, Flatten, Dense, Dropout, InputLayer\n",
    "from tensorflow.keras.models import Sequential\n",
    "from tensorflow.keras import optimizers\n",
    "from tensorflow.keras.applications import vgg16\n",
    "from tensorflow.keras.models import Model\n",
    "from tensorflow.keras.layers import Flatten"
   ]
  },
  {
   "cell_type": "markdown",
   "metadata": {},
   "source": [
    "## Transfer Learning Model"
   ]
  },
  {
   "cell_type": "code",
   "execution_count": 9,
   "metadata": {},
   "outputs": [],
   "source": [
    "vgg = vgg16.VGG16(include_top=False, weights='imagenet', input_shape=(480, 640, 3))"
   ]
  },
  {
   "cell_type": "code",
   "execution_count": 10,
   "metadata": {},
   "outputs": [],
   "source": [
    "output = vgg.layers[-1].output\n",
    "output = Flatten()(output)\n",
    "vgg_model = Model(vgg.input, output)\n",
    "\n",
    "vgg_model.trainable = False\n",
    "for layer in vgg_model.layers:\n",
    "    layer.trainable = False "
   ]
  },
  {
   "cell_type": "code",
   "execution_count": 11,
   "metadata": {},
   "outputs": [],
   "source": [
    "train_features_vgg= np.load('C:/Users/spradha5/NeuralC2/Approach1/train_features_vgg.npy')\n",
    "unlabeled_features_vgg= np.load('C:/Users/spradha5/NeuralC2/Approach1/unlabeled_features_vgg.npy')"
   ]
  },
  {
   "cell_type": "code",
   "execution_count": 12,
   "metadata": {},
   "outputs": [
    {
     "name": "stdout",
     "output_type": "stream",
     "text": [
      "Train Bottleneck Features: (896, 153600) Unlabelled Bottleneck Features: (750, 153600)\n"
     ]
    }
   ],
   "source": [
    "print('Train Bottleneck Features:', train_features_vgg.shape, \n",
    "      'Unlabelled Bottleneck Features:', unlabeled_features_vgg.shape)"
   ]
  },
  {
   "cell_type": "code",
   "execution_count": 13,
   "metadata": {},
   "outputs": [],
   "source": [
    "#hyperparameters\n",
    "\n",
    "#original values\n",
    "#neurons = 512\n",
    "#drop_prob = 0.3\n",
    "#learning_rate = 0.0001\n",
    "#max_runs = 20\n",
    "#batchsize = 64\n",
    "#num_epochs = 20\n",
    "\n",
    "\n",
    "neurons1 = 512\n",
    "neurons2 = 512\n",
    "drop_prob = 0.2\n",
    "learning_rate = 0.0001\n",
    "max_runs = 10\n",
    "batchsize = 64\n",
    "num_epochs = 6"
   ]
  },
  {
   "cell_type": "code",
   "execution_count": 14,
   "metadata": {},
   "outputs": [],
   "source": [
    "#changes from replica model:\n",
    "#loss = categorical instead of binary crossentropy\n",
    "#optimizer = adam instead of RMSprop"
   ]
  },
  {
   "cell_type": "code",
   "execution_count": 15,
   "metadata": {},
   "outputs": [
    {
     "name": "stdout",
     "output_type": "stream",
     "text": [
      "Model: \"sequential\"\n",
      "_________________________________________________________________\n",
      "Layer (type)                 Output Shape              Param #   \n",
      "=================================================================\n",
      "dense (Dense)                (None, 512)               78643712  \n",
      "_________________________________________________________________\n",
      "dropout (Dropout)            (None, 512)               0         \n",
      "_________________________________________________________________\n",
      "dense_1 (Dense)              (None, 512)               262656    \n",
      "_________________________________________________________________\n",
      "dropout_1 (Dropout)          (None, 512)               0         \n",
      "_________________________________________________________________\n",
      "dense_2 (Dense)              (None, 5)                 2565      \n",
      "=================================================================\n",
      "Total params: 78,908,933\n",
      "Trainable params: 78,908,933\n",
      "Non-trainable params: 0\n",
      "_________________________________________________________________\n"
     ]
    }
   ],
   "source": [
    "input_shape = vgg_model.output_shape[1]\n",
    "\n",
    "model = Sequential()\n",
    "model.add(InputLayer(input_shape=(input_shape,)))\n",
    "model.add(Dense(neurons1, activation='relu', input_dim=input_shape))\n",
    "model.add(Dropout(drop_prob))\n",
    "model.add(Dense(neurons2, activation='relu'))\n",
    "model.add(Dropout(drop_prob))\n",
    "model.add(Dense(5, activation='softmax'))\n",
    "\n",
    "model.compile(loss='categorical_crossentropy',\n",
    "              optimizer=optimizers.Adam(lr=learning_rate),\n",
    "              metrics=['accuracy'])\n",
    "\n",
    "model.summary()"
   ]
  },
  {
   "cell_type": "code",
   "execution_count": 16,
   "metadata": {},
   "outputs": [],
   "source": [
    "itr = 0\n",
    "semisuper_history = []"
   ]
  },
  {
   "cell_type": "code",
   "execution_count": 17,
   "metadata": {},
   "outputs": [
    {
     "name": "stdout",
     "output_type": "stream",
     "text": [
      "Train on 672 samples, validate on 224 samples\n",
      "Epoch 1/6\n",
      "672/672 [==============================] - 5s 7ms/sample - loss: 2.4195 - accuracy: 0.3735 - val_loss: 1.2372 - val_accuracy: 0.4911\n",
      "Epoch 2/6\n",
      "672/672 [==============================] - 2s 3ms/sample - loss: 1.1217 - accuracy: 0.5878 - val_loss: 0.7566 - val_accuracy: 0.6875\n",
      "Epoch 3/6\n",
      "672/672 [==============================] - 2s 3ms/sample - loss: 0.6649 - accuracy: 0.7515 - val_loss: 0.6438 - val_accuracy: 0.7545\n",
      "Epoch 4/6\n",
      "672/672 [==============================] - 2s 3ms/sample - loss: 0.5184 - accuracy: 0.8065 - val_loss: 0.5868 - val_accuracy: 0.7455\n",
      "Epoch 5/6\n",
      "672/672 [==============================] - 2s 3ms/sample - loss: 0.4138 - accuracy: 0.8631 - val_loss: 0.4678 - val_accuracy: 0.8036\n",
      "Epoch 6/6\n",
      "672/672 [==============================] - 2s 3ms/sample - loss: 0.2913 - accuracy: 0.8988 - val_loss: 0.4662 - val_accuracy: 0.8125\n",
      "750\n",
      "Before 750\n",
      "After 194\n",
      "Train on 1089 samples, validate on 363 samples\n",
      "Epoch 1/6\n",
      "1089/1089 [==============================] - 3s 3ms/sample - loss: 0.2648 - accuracy: 0.9128 - val_loss: 0.1137 - val_accuracy: 0.9917\n",
      "Epoch 2/6\n",
      "1089/1089 [==============================] - 3s 3ms/sample - loss: 0.2002 - accuracy: 0.9440 - val_loss: 0.0969 - val_accuracy: 0.9807\n",
      "Epoch 3/6\n",
      "1089/1089 [==============================] - 3s 3ms/sample - loss: 0.1523 - accuracy: 0.9624 - val_loss: 0.0762 - val_accuracy: 0.9807\n",
      "Epoch 4/6\n",
      "1089/1089 [==============================] - 3s 3ms/sample - loss: 0.1118 - accuracy: 0.9761 - val_loss: 0.0465 - val_accuracy: 0.9862\n",
      "Epoch 5/6\n",
      "1089/1089 [==============================] - 3s 3ms/sample - loss: 0.0756 - accuracy: 0.9890 - val_loss: 0.0340 - val_accuracy: 0.9945\n",
      "Epoch 6/6\n",
      "1089/1089 [==============================] - 3s 3ms/sample - loss: 0.0590 - accuracy: 0.9917 - val_loss: 0.1046 - val_accuracy: 0.9532\n",
      "194\n",
      "Before 194\n",
      "After 47\n",
      "Train on 1199 samples, validate on 400 samples\n",
      "Epoch 1/6\n",
      "1199/1199 [==============================] - 4s 3ms/sample - loss: 0.1129 - accuracy: 0.9633 - val_loss: 0.6172 - val_accuracy: 0.7375\n",
      "Epoch 2/6\n",
      "1199/1199 [==============================] - 3s 3ms/sample - loss: 0.0574 - accuracy: 0.9825 - val_loss: 0.4883 - val_accuracy: 0.7950\n",
      "Epoch 3/6\n",
      "1199/1199 [==============================] - 3s 3ms/sample - loss: 0.0375 - accuracy: 0.9958 - val_loss: 0.1587 - val_accuracy: 0.9350\n",
      "Epoch 4/6\n",
      "1199/1199 [==============================] - 3s 3ms/sample - loss: 0.0328 - accuracy: 0.9942 - val_loss: 0.3828 - val_accuracy: 0.8375\n",
      "Epoch 5/6\n",
      "1199/1199 [==============================] - 3s 3ms/sample - loss: 0.0234 - accuracy: 0.9975 - val_loss: 0.3185 - val_accuracy: 0.8725\n",
      "Epoch 6/6\n",
      "1199/1199 [==============================] - 3s 3ms/sample - loss: 0.0119 - accuracy: 0.9992 - val_loss: 0.3865 - val_accuracy: 0.8425\n",
      "47\n",
      "Before 47\n",
      "After 9\n",
      "Train on 1227 samples, validate on 410 samples\n",
      "Epoch 1/6\n",
      "1227/1227 [==============================] - 4s 3ms/sample - loss: 0.0119 - accuracy: 0.9992 - val_loss: 0.2950 - val_accuracy: 0.8683\n",
      "Epoch 2/6\n",
      "1227/1227 [==============================] - 4s 3ms/sample - loss: 0.0109 - accuracy: 1.0000 - val_loss: 0.2753 - val_accuracy: 0.8756\n",
      "Epoch 3/6\n",
      "1227/1227 [==============================] - 4s 3ms/sample - loss: 0.0117 - accuracy: 0.9992 - val_loss: 0.4459 - val_accuracy: 0.8488\n",
      "Epoch 4/6\n",
      "1227/1227 [==============================] - 4s 3ms/sample - loss: 0.0097 - accuracy: 1.0000 - val_loss: 0.2326 - val_accuracy: 0.8951\n",
      "Epoch 5/6\n",
      "1227/1227 [==============================] - 4s 3ms/sample - loss: 0.0126 - accuracy: 0.9959 - val_loss: 0.3428 - val_accuracy: 0.8707\n",
      "Epoch 6/6\n",
      "1227/1227 [==============================] - 4s 3ms/sample - loss: 0.0093 - accuracy: 0.9992 - val_loss: 0.2894 - val_accuracy: 0.8756\n",
      "9\n",
      "Before 9\n",
      "After 7\n",
      "Train on 1229 samples, validate on 410 samples\n",
      "Epoch 1/6\n",
      "1229/1229 [==============================] - 4s 3ms/sample - loss: 0.0053 - accuracy: 1.0000 - val_loss: 0.3016 - val_accuracy: 0.8732\n",
      "Epoch 2/6\n",
      "1229/1229 [==============================] - 3s 3ms/sample - loss: 0.0057 - accuracy: 1.0000 - val_loss: 0.3081 - val_accuracy: 0.8732\n",
      "Epoch 3/6\n",
      "1229/1229 [==============================] - 4s 3ms/sample - loss: 0.0046 - accuracy: 1.0000 - val_loss: 0.3462 - val_accuracy: 0.8659\n",
      "Epoch 4/6\n",
      "1229/1229 [==============================] - 4s 3ms/sample - loss: 0.0051 - accuracy: 1.0000 - val_loss: 0.4108 - val_accuracy: 0.8659\n",
      "Epoch 5/6\n",
      "1229/1229 [==============================] - 4s 3ms/sample - loss: 0.0046 - accuracy: 1.0000 - val_loss: 0.3899 - val_accuracy: 0.8634\n",
      "Epoch 6/6\n",
      "1229/1229 [==============================] - 3s 3ms/sample - loss: 0.0032 - accuracy: 1.0000 - val_loss: 0.2757 - val_accuracy: 0.8829\n",
      "7\n",
      "Before 7\n",
      "After 6\n",
      "Train on 1230 samples, validate on 410 samples\n",
      "Epoch 1/6\n",
      "1230/1230 [==============================] - 3s 3ms/sample - loss: 0.0035 - accuracy: 1.0000 - val_loss: 0.2926 - val_accuracy: 0.8780\n",
      "Epoch 2/6\n",
      "1230/1230 [==============================] - 4s 3ms/sample - loss: 0.0037 - accuracy: 1.0000 - val_loss: 0.3368 - val_accuracy: 0.8732\n",
      "Epoch 3/6\n",
      "1230/1230 [==============================] - 3s 3ms/sample - loss: 0.0033 - accuracy: 1.0000 - val_loss: 0.5687 - val_accuracy: 0.8439\n",
      "Epoch 4/6\n",
      "1230/1230 [==============================] - 3s 3ms/sample - loss: 0.0031 - accuracy: 1.0000 - val_loss: 0.4798 - val_accuracy: 0.8488\n",
      "Epoch 5/6\n",
      "1230/1230 [==============================] - 3s 3ms/sample - loss: 0.0028 - accuracy: 1.0000 - val_loss: 0.2435 - val_accuracy: 0.9024\n",
      "Epoch 6/6\n",
      "1230/1230 [==============================] - 3s 3ms/sample - loss: 0.0025 - accuracy: 1.0000 - val_loss: 0.4609 - val_accuracy: 0.8561\n",
      "6\n",
      "Before 6\n",
      "After 5\n",
      "Train on 1230 samples, validate on 411 samples\n",
      "Epoch 1/6\n",
      "1230/1230 [==============================] - 4s 3ms/sample - loss: 0.0024 - accuracy: 1.0000 - val_loss: 0.4248 - val_accuracy: 0.8686\n",
      "Epoch 2/6\n",
      "1230/1230 [==============================] - 3s 3ms/sample - loss: 0.0025 - accuracy: 1.0000 - val_loss: 0.3584 - val_accuracy: 0.8759\n",
      "Epoch 3/6\n",
      "1230/1230 [==============================] - 3s 3ms/sample - loss: 0.0020 - accuracy: 1.0000 - val_loss: 0.4803 - val_accuracy: 0.8516\n",
      "Epoch 4/6\n",
      "1230/1230 [==============================] - 3s 3ms/sample - loss: 0.0021 - accuracy: 1.0000 - val_loss: 0.4512 - val_accuracy: 0.8613\n",
      "Epoch 5/6\n",
      "1230/1230 [==============================] - 3s 3ms/sample - loss: 0.0034 - accuracy: 1.0000 - val_loss: 0.3600 - val_accuracy: 0.8710\n",
      "Epoch 6/6\n",
      "1230/1230 [==============================] - 3s 3ms/sample - loss: 0.0022 - accuracy: 1.0000 - val_loss: 0.4644 - val_accuracy: 0.8589\n",
      "5\n",
      "Before 5\n",
      "After 5\n"
     ]
    }
   ],
   "source": [
    "while(itr<max_runs):\n",
    "    trainX = train_features_vgg[0:int(0.75*len(train_features_vgg))]\n",
    "    valX = train_features_vgg[int(0.75*len(train_features_vgg)):]\n",
    "    \n",
    "    trainY = training_Y[0:int(0.75*len(training_Y))]\n",
    "    valY = training_Y[int(0.75*len(training_Y)):]\n",
    "    \n",
    "    history = model.fit(x=trainX, y=trainY,\n",
    "                    validation_data=(valX, valY),\n",
    "                    batch_size=batchsize,\n",
    "                    epochs=num_epochs,\n",
    "                    verbose=1)\n",
    "    \n",
    "    temp_unlabeled_features_vgg = []\n",
    "    print(len(unlabeled_features_vgg))\n",
    "    for ulb in unlabeled_features_vgg:\n",
    "        temp = model.predict(np.array([ulb]))\n",
    "        \n",
    "        if(np.any(temp > 0.6)):\n",
    "            train_features_vgg = np.vstack((train_features_vgg,ulb))\n",
    "            training_Y = np.vstack((training_Y,keras.utils.to_categorical(np.argmax(temp), 5)))\n",
    "        else:\n",
    "            temp_unlabeled_features_vgg.append(ulb)\n",
    "    print(\"Before\",len(unlabeled_features_vgg))\n",
    "    print(\"After\",len(temp_unlabeled_features_vgg))\n",
    "    if(len(temp_unlabeled_features_vgg) == 0):\n",
    "        break\n",
    "    semisuper_history.append(history.history)\n",
    "    if(len(temp_unlabeled_features_vgg) == len(unlabeled_features_vgg)):\n",
    "        break\n",
    "        \n",
    "    unlabeled_features_vgg = temp_unlabeled_features_vgg\n",
    "    itr=itr+1\n",
    "    "
   ]
  },
  {
   "cell_type": "code",
   "execution_count": 18,
   "metadata": {},
   "outputs": [
    {
     "data": {
      "text/plain": [
       "<Figure size 640x480 with 1 Axes>"
      ]
     },
     "metadata": {},
     "output_type": "display_data"
    }
   ],
   "source": [
    "import matplotlib.pyplot as plt\n",
    "plt.plot(history.history['accuracy'])\n",
    "plt.plot(history.history['val_accuracy'])\n",
    "plt.title('Accuracy for selected model')\n",
    "plt.ylabel('Accuracy')\n",
    "plt.xlabel('Epoch')\n",
    "plt.legend(['Training Accuracy', 'Validation Accuracy'], loc='lower right')\n",
    "plt.savefig('FinalAccuracy.png')\n",
    "plt.show()"
   ]
  },
  {
   "cell_type": "code",
   "execution_count": 19,
   "metadata": {},
   "outputs": [
    {
     "data": {
      "image/png": "[encoded data removed]",
      "text/plain": [
       "<Figure size 432x288 with 1 Axes>"
      ]
     },
     "metadata": {
      "needs_background": "light"
     },
     "output_type": "display_data"
    }
   ],
   "source": [
    "#loss\n",
    "plt.plot(history.history['loss'])\n",
    "plt.plot(history.history['val_loss'])\n",
    "plt.title('Loss for selected model')\n",
    "plt.ylabel('Loss')\n",
    "plt.xlabel('Epoch')\n",
    "plt.legend(['Training Loss', 'Validation Loss'], loc='upper right')\n",
    "plt.savefig('FinalLoss.png')\n",
    "plt.show()"
   ]
  },
  {
   "cell_type": "code",
   "execution_count": 20,
   "metadata": {},
   "outputs": [],
   "source": [
    "model.save('final_model_approach6.h5')"
   ]
  },
  {
   "cell_type": "code",
   "execution_count": null,
   "metadata": {},
   "outputs": [],
   "source": []
  }
 ],
 "metadata": {
  "kernelspec": {
   "display_name": "Python 3",
   "language": "python",
   "name": "python3"
  },
  "language_info": {
   "codemirror_mode": {
    "name": "ipython",
    "version": 3
   },
   "file_extension": ".py",
   "mimetype": "text/x-python",
   "name": "python",
   "nbconvert_exporter": "python",
   "pygments_lexer": "ipython3",
   "version": "3.7.4"
  }
 },
 "nbformat": 4,
 "nbformat_minor": 2
}
